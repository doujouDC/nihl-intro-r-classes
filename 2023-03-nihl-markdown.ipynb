{
  "cells": [
    {
      "cell_type": "raw",
      "metadata": {},
      "source": [
        "---\n",
        "title: 'NIH Library Markdown: March 2023'\n",
        "format: docx\n",
        "editor: visual\n",
        "---"
      ],
      "id": "17ae73ed"
    },
    {
      "cell_type": "markdown",
      "metadata": {},
      "source": [
        "# Turning on Our Packages\n",
        "\n",
        "\n",
        "```{r}\n",
        "library(tidyverse)\n",
        "library(quarto)\n",
        "library(rmarkdown)\n",
        "```\n",
        "\n",
        "\n",
        "# Save Our Plot Object\n",
        "\n",
        "\n",
        "```{r}\n",
        "air_quality_plot <- airquality %>% \n",
        "  ggplot(mapping = aes(x = Temp, y = Ozone)) +\n",
        "  geom_point()\n",
        "```\n",
        "\n",
        "\n",
        "# Create Our Plot\n",
        "\n",
        "\n",
        "```{r}\n",
        "air_quality_plot +\n",
        "  geom_smooth(method = \"lm\")\n",
        "```\n",
        "\n",
        "\n",
        "# Insert Code Chunks in a Couple of Languages\n",
        "\n",
        "## R\n",
        "\n",
        "\n",
        "```{r}\n",
        "library(gapminder)\n",
        "summary(gapminder$lifeExp)\n",
        "```\n",
        "\n",
        "\n",
        "## Python\n"
      ],
      "id": "cf45d7f2"
    },
    {
      "cell_type": "code",
      "metadata": {},
      "source": [
        "#| label: fig-polar\n",
        "#| fig-cap: A line plot on a polar axis\n",
        "\n",
        "import numpy as np\n",
        "import matplotlib.pyplot as plt\n",
        "\n",
        "r = np.arange(0, 2, 0.01)\n",
        "theta = 2 * np.pi * r\n",
        "fig, ax = plt.subplots(\n",
        "  subplot_kw = {'projection': 'polar'} \n",
        ")\n",
        "ax.plot(theta, r)\n",
        "ax.set_rticks([0.5, 1, 1.5, 2])\n",
        "ax.grid(True)\n",
        "plt.show()"
      ],
      "id": "fig-polar",
      "execution_count": null,
      "outputs": []
    }
  ],
  "metadata": {
    "kernelspec": {
      "display_name": "Python 3",
      "language": "python",
      "name": "python3"
    }
  },
  "nbformat": 4,
  "nbformat_minor": 5
}